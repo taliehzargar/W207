{
 "cells": [
  {
   "cell_type": "markdown",
   "metadata": {},
   "source": [
    "# Project 1: Digit Classification with KNN and Naive Bayes"
   ]
  },
  {
   "cell_type": "markdown",
   "metadata": {},
   "source": [
    "In this project, you'll implement your own image recognition system for classifying digits. Read through the code and the instructions carefully and add your own code where indicated. Each problem can be addressed succinctly with the included packages -- please don't add any more. Grading will be based on writing clean, commented code, along with a few short answers.\n",
    "\n",
    "As always, you're welcome to work on the project in groups and discuss ideas on the course wall, but <b> please prepare your own write-up (with your own code). </b>\n",
    "\n",
    "If you're interested, check out these links related to digit recognition:\n",
    "\n",
    "Yann Lecun's MNIST benchmarks: http://yann.lecun.com/exdb/mnist/\n",
    "\n",
    "Stanford Streetview research and data: http://ufldl.stanford.edu/housenumbers/"
   ]
  },
  {
   "cell_type": "code",
   "execution_count": 84,
   "metadata": {
    "collapsed": false
   },
   "outputs": [],
   "source": [
    "# This tells matplotlib not to try opening a new window for each plot.\n",
    "%matplotlib inline\n",
    "\n",
    "# Import a bunch of libraries.\n",
    "import time\n",
    "import numpy as np\n",
    "import matplotlib.pyplot as plt\n",
    "from matplotlib.ticker import MultipleLocator\n",
    "from sklearn.pipeline import Pipeline\n",
    "from sklearn.datasets import fetch_mldata\n",
    "from sklearn.neighbors import KNeighborsClassifier\n",
    "from sklearn.metrics import confusion_matrix\n",
    "from sklearn.linear_model import LinearRegression\n",
    "from sklearn.naive_bayes import BernoulliNB\n",
    "from sklearn.naive_bayes import MultinomialNB\n",
    "from sklearn.naive_bayes import GaussianNB\n",
    "from sklearn.grid_search import GridSearchCV\n",
    "from sklearn.metrics import classification_report\n",
    "from sklearn import linear_model\n",
    "\n",
    "# Set the randomizer seed so results are the same each time.\n",
    "np.random.seed(0)"
   ]
  },
  {
   "cell_type": "markdown",
   "metadata": {},
   "source": [
    "Load the data. Notice that we are splitting the data into training, development, and test. We also have a small subset of the training data called mini_train_data and mini_train_labels that you should use in all the experiments below, unless otherwise noted."
   ]
  },
  {
   "cell_type": "code",
   "execution_count": 85,
   "metadata": {
    "collapsed": false
   },
   "outputs": [
    {
     "name": "stdout",
     "output_type": "stream",
     "text": [
      "data shape:  (70000, 784)\n",
      "label shape: (70000,)\n"
     ]
    }
   ],
   "source": [
    "# Load the digit data either from mldata.org, or once downloaded to data_home, from disk. The data is about 53MB so this cell\n",
    "# should take a while the first time your run it.\n",
    "mnist = fetch_mldata('MNIST original', data_home='~/datasets/mnist')\n",
    "X=mnist.data\n",
    "X\n",
    "\n",
    "X, Y = mnist.data, mnist.target\n",
    "# Rescale grayscale values to [0,1].\n",
    "\n",
    "\n",
    "# Shuffle the input: create a random permutation of the integers between 0 and the number of data points and apply this\n",
    "# permutation to X and Y.\n",
    "# NOTE: Each time you run this cell, you'll re-shuffle the data, resulting in a different ordering.\n",
    "shuffle = np.random.permutation(np.arange(X.shape[0]))\n",
    "X, Y = X[shuffle], Y[shuffle]\n",
    "\n",
    "print 'data shape: ', X.shape\n",
    "print 'label shape:', Y.shape\n",
    "\n",
    "# Set some variables to hold test, dev, and training data.\n",
    "test_data, test_labels = X[61000:], Y[61000:]\n",
    "dev_data, dev_labels = X[60000:61000], Y[60000:61000]\n",
    "train_data, train_labels = X[:60000], Y[:60000]\n",
    "mini_train_data, mini_train_labels = X[:1000], Y[:1000]"
   ]
  },
  {
   "cell_type": "markdown",
   "metadata": {},
   "source": [
    "(1) Create a 10x10 grid to visualize 10 examples of each digit. Python hints:\n",
    "\n",
    "- plt.rc() for setting the colormap, for example to black and white\n",
    "- plt.subplot() for creating subplots\n",
    "- plt.imshow() for rendering a matrix\n",
    "- np.array.reshape() for reshaping a 1D feature vector into a 2D matrix (for rendering)"
   ]
  },
  {
   "cell_type": "code",
   "execution_count": 21,
   "metadata": {
    "collapsed": false
   },
   "outputs": [
    {
     "name": "stdout",
     "output_type": "stream",
     "text": [
      "ERROR! Session/line number was not unique in database. History logging moved to new session 108\n"
     ]
    },
    {
     "data": {
      "image/png": "[encoded data removed]",
      "text/plain": [
       "<matplotlib.figure.Figure at 0x1129ef410>"
      ]
     },
     "metadata": {},
     "output_type": "display_data"
    }
   ],
   "source": [
    "def P1(num_examples=10):\n",
    "\n",
    "    j=1\n",
    "    i=0\n",
    "    k=0\n",
    "    ndigits=10;\n",
    "    \n",
    "    while i<10:\n",
    "        j=1;\n",
    "        while j<=num_examples:\n",
    "            \n",
    "            if Y[k]==i:\n",
    "                \n",
    "                Xp=(X[k]/255).reshape(-1,28)\n",
    "                \n",
    "                p=plt.subplot(ndigits,num_examples,(i)*num_examples+j)\n",
    "                p.imshow(Xp, cmap=plt.cm.gray_r, interpolation='nearest')\n",
    "                j+=1;   \n",
    "            \n",
    "            k+=1;\n",
    "        \n",
    "        k=0;\n",
    "        i+=1;  \n",
    "            \n",
    "P1(num_examples=10)\n"
   ]
  },
  {
   "cell_type": "markdown",
   "metadata": {},
   "source": [
    "(2) Evaluate a K-Nearest-Neighbors model with k = [1,3,5,7,9] using the mini training set. Report accuracy on the dev set. For k=1, show precision, recall, and F1 for each label. Which is the most difficult digit?\n",
    "\n",
    "- KNeighborsClassifier() for fitting and predicting\n",
    "- classification_report() for producing precision, recall, F1 results"
   ]
  },
  {
   "cell_type": "code",
   "execution_count": 3,
   "metadata": {
    "collapsed": false
   },
   "outputs": [
    {
     "name": "stdout",
     "output_type": "stream",
     "text": [
      "k= 1 ; accuracy: 0.214\n",
      "----------------------------\n",
      "             precision    recall  f1-score   support\n",
      "\n",
      "        0.0       0.19      0.15      0.17        99\n",
      "        1.0       0.28      0.31      0.29       105\n",
      "        2.0       0.12      0.30      0.17       102\n",
      "        3.0       0.19      0.21      0.20        86\n",
      "        4.0       0.23      0.12      0.16       104\n",
      "        5.0       0.14      0.16      0.15        91\n",
      "        6.0       0.46      0.30      0.36        98\n",
      "        7.0       0.34      0.20      0.25       113\n",
      "        8.0       0.11      0.06      0.08        96\n",
      "        9.0       0.31      0.29      0.30       106\n",
      "\n",
      "avg / total       0.24      0.21      0.22      1000\n",
      "\n",
      "k= 3 ; accuracy: 0.235\n",
      "----------------------------\n",
      "             precision    recall  f1-score   support\n",
      "\n",
      "        0.0       0.21      0.33      0.26        99\n",
      "        1.0       0.27      0.53      0.36       105\n",
      "        2.0       0.12      0.14      0.13       102\n",
      "        3.0       0.20      0.14      0.17        86\n",
      "        4.0       0.26      0.11      0.15       104\n",
      "        5.0       0.13      0.07      0.09        91\n",
      "        6.0       0.70      0.19      0.30        98\n",
      "        7.0       0.22      0.51      0.31       113\n",
      "        8.0       0.19      0.05      0.08        96\n",
      "        9.0       0.39      0.20      0.26       106\n",
      "\n",
      "avg / total       0.27      0.23      0.21      1000\n",
      "\n",
      "k= 5 ; accuracy: 0.255\n",
      "----------------------------\n",
      "             precision    recall  f1-score   support\n",
      "\n",
      "        0.0       0.26      0.27      0.26        99\n",
      "        1.0       0.36      0.42      0.39       105\n",
      "        2.0       0.19      0.11      0.14       102\n",
      "        3.0       0.32      0.13      0.18        86\n",
      "        4.0       0.26      0.10      0.14       104\n",
      "        5.0       0.28      0.09      0.13        91\n",
      "        6.0       0.46      0.18      0.26        98\n",
      "        7.0       0.20      0.75      0.31       113\n",
      "        8.0       0.18      0.12      0.15        96\n",
      "        9.0       0.37      0.27      0.32       106\n",
      "\n",
      "avg / total       0.29      0.26      0.23      1000\n",
      "\n",
      "k= 7 ; accuracy: 0.244\n",
      "----------------------------\n",
      "             precision    recall  f1-score   support\n",
      "\n",
      "        0.0       0.26      0.21      0.23        99\n",
      "        1.0       0.32      0.43      0.36       105\n",
      "        2.0       0.16      0.12      0.14       102\n",
      "        3.0       0.26      0.09      0.14        86\n",
      "        4.0       0.28      0.18      0.22       104\n",
      "        5.0       0.30      0.10      0.15        91\n",
      "        6.0       0.30      0.13      0.18        98\n",
      "        7.0       0.20      0.69      0.31       113\n",
      "        8.0       0.20      0.09      0.13        96\n",
      "        9.0       0.33      0.28      0.30       106\n",
      "\n",
      "avg / total       0.26      0.24      0.22      1000\n",
      "\n",
      "k= 9 ; accuracy: 0.241\n",
      "----------------------------\n",
      "             precision    recall  f1-score   support\n",
      "\n",
      "        0.0       0.21      0.26      0.24        99\n",
      "        1.0       0.31      0.42      0.36       105\n",
      "        2.0       0.17      0.12      0.14       102\n",
      "        3.0       0.19      0.07      0.10        86\n",
      "        4.0       0.26      0.17      0.21       104\n",
      "        5.0       0.20      0.11      0.14        91\n",
      "        6.0       0.29      0.10      0.15        98\n",
      "        7.0       0.22      0.74      0.34       113\n",
      "        8.0       0.17      0.07      0.10        96\n",
      "        9.0       0.35      0.23      0.28       106\n",
      "\n",
      "avg / total       0.24      0.24      0.21      1000\n",
      "\n"
     ]
    }
   ],
   "source": [
    "def P2(k_values):\n",
    "    for index in range(len(k_values)):\n",
    "        k=k_values[index]\n",
    "        neigh = KNeighborsClassifier(n_neighbors=k)\n",
    "        neigh.fit(mini_train_data/255, mini_train_labels)\n",
    "        preds = neigh.predict(dev_data/255)\n",
    "        print \"k=\", k, \"; accuracy:\", np.mean(preds == dev_labels)\n",
    "        print \"----------------------------\"\n",
    "        print(classification_report(dev_labels, preds))\n",
    "        \n",
    "k_values=[1,3,5,7,9]        \n",
    "P2(k_values)"
   ]
  },
  {
   "cell_type": "markdown",
   "metadata": {},
   "source": [
    "ANSWER:"
   ]
  },
  {
   "cell_type": "markdown",
   "metadata": {},
   "source": [
    "(3) Using k=1, report dev set accuracy for the training set sizes below. Also, measure the amount of time needed for prediction with each training size.\n",
    "\n",
    "- time.time() gives a wall clock value you can use for timing operations"
   ]
  },
  {
   "cell_type": "code",
   "execution_count": 4,
   "metadata": {
    "collapsed": false
   },
   "outputs": [
    {
     "name": "stdout",
     "output_type": "stream",
     "text": [
      "train_size 100 ; accuracy: 0.154 time needed for prediction 1456120902.56\n",
      "train_size 200 ; accuracy: 0.175 time needed for prediction 1456120903.43\n",
      "train_size 400 ; accuracy: 0.19 time needed for prediction 1456120904.83\n",
      "train_size 800 ; accuracy: 0.204 time needed for prediction 1456120906.88\n",
      "train_size 1600 ; accuracy: 0.247 time needed for prediction 1456120913.27\n",
      "train_size 3200 ; accuracy: 0.264 time needed for prediction 1456120918.98\n",
      "train_size 6400 ; accuracy: 0.281 time needed for prediction 1456120927.12\n",
      "train_size 12800 ; accuracy: 0.285 time needed for prediction 1456120944.36\n",
      "train_size 25000 ; accuracy: 0.301 time needed for prediction 1456120979.34\n"
     ]
    }
   ],
   "source": [
    "def P3(train_sizes,accuracies):\n",
    "    for index in range(len(train_sizes)):\n",
    "        trainsize=train_sizes[index]\n",
    "        new_train_data, new_train_labels = X[:trainsize], Y[:trainsize]\n",
    "        clfk = KNeighborsClassifier(n_neighbors=1)\n",
    "        clfk.fit(new_train_data/255, new_train_labels)\n",
    "        preds = clfk.predict(dev_data/255)\n",
    "        accuracies[index]=np.mean(preds == dev_labels)\n",
    "        print \"train_size\", trainsize, \"; accuracy:\", accuracies[index] ,\"time needed for prediction\", time.time()\n",
    "\n",
    "train_sizes = [100, 200, 400, 800, 1600, 3200, 6400, 12800, 25000]\n",
    "accuracies = [0,0,0,0,0,0,0,0,0]\n",
    "P3(train_sizes, accuracies)\n",
    "   "
   ]
  },
  {
   "cell_type": "markdown",
   "metadata": {},
   "source": [
    "(4) Fit a regression model that predicts accuracy from training size. What does it predict for n=60000? What's wrong with using regression here? Can you apply a transformation that makes the predictions more reasonable?\n",
    "\n",
    "- Remember that the sklearn fit() functions take an input matrix X and output vector Y. So each input example in X is a vector, even if it contains only a single value."
   ]
  },
  {
   "cell_type": "code",
   "execution_count": 5,
   "metadata": {
    "collapsed": false
   },
   "outputs": [
    {
     "name": "stdout",
     "output_type": "stream",
     "text": [
      "Regression slope: [  4.84218775e-06]\n",
      "accuracy for n=60000 is  [ 0.49680565]\n"
     ]
    },
    {
     "name": "stderr",
     "output_type": "stream",
     "text": [
      "C:\\Python27\\lib\\site-packages\\sklearn\\utils\\validation.py:386: DeprecationWarning: Passing 1d arrays as data is deprecated in 0.17 and willraise ValueError in 0.19. Reshape your data either using X.reshape(-1, 1) if your data has a single feature or X.reshape(1, -1) if it contains a single sample.\n",
      "  DeprecationWarning)\n"
     ]
    }
   ],
   "source": [
    "def P4():\n",
    "    regr = linear_model.LinearRegression()\n",
    "    regr.fit(np.reshape(train_sizes,(-1,1)),accuracies)\n",
    "    # The coefficients\n",
    "    print \"Regression slope:\", regr.coef_\n",
    "    print \"accuracy for n=60000 is \", regr.predict([60000])\n",
    "P4()\n"
   ]
  },
  {
   "cell_type": "markdown",
   "metadata": {},
   "source": [
    "Fit a 1-NN and output a confusion matrix for the dev data. Use the confusion matrix to identify the most confused pair of digits, and display a few example mistakes.\n",
    "\n",
    "- confusion_matrix() produces a confusion matrix"
   ]
  },
  {
   "cell_type": "code",
   "execution_count": 6,
   "metadata": {
    "collapsed": false
   },
   "outputs": [
    {
     "name": "stdout",
     "output_type": "stream",
     "text": [
      "Confusion matrix:\n",
      "[[15  7 32  4  9  9  7  3  8  5]\n",
      " [ 7 33 18 10  7 16  3  2  6  3]\n",
      " [16 13 31  6  7  7 10  3  4  5]\n",
      " [ 6  6 25 18  4 11  3  2  8  3]\n",
      " [ 5 14 21  7 13 12  1  9 11 11]\n",
      " [ 9 10 16 14  3 15  7  3  8  6]\n",
      " [ 5  1 43  3  0  7 29  3  0  7]\n",
      " [ 9 11 31  7  4  4  1 23  2 21]\n",
      " [ 5 19 15 16  6 15  1  6  6  7]\n",
      " [ 4  5 26  8  3 11  1 14  3 31]]\n"
     ]
    }
   ],
   "source": [
    "def P5():\n",
    "    clfk = KNeighborsClassifier(n_neighbors=1)\n",
    "    clfk.fit(mini_train_data/255, mini_train_labels)\n",
    "    preds = clfk.predict(dev_data/255)\n",
    "    cm = confusion_matrix(dev_labels, preds)\n",
    "    print(\"Confusion matrix:\\n%s\" % cm)\n",
    "    \n",
    "P5()\n"
   ]
  },
  {
   "cell_type": "code",
   "execution_count": null,
   "metadata": {
    "collapsed": true
   },
   "outputs": [],
   "source": [
    " (6) A common image processing technique is to smooth an image by blurring. The idea is that the value of a particular pixel is estimated as the weighted combination of the original value and the values around it. Typically, the blurring is Gaussian -- that is, the weight of a pixel's influence is determined by a Gaussian function over the distance to the relevant pixel.\n",
    "\n",
    "Implement a simplified Gaussian blur by just using the 8 neighboring pixels: the smoothed value of a pixel is a weighted combination of the original value and the 8 neighboring values. Try applying your blur filter in 3 ways:\n",
    "- preprocess the training data but not the dev data\n",
    "- preprocess the dev data but not the training data\n",
    "- preprocess both training and dev data\n",
    "\n",
    "Note that there are Guassian blur filters available, for example in scipy.ndimage.filters. You're welcome to experiment with those, but you are likely to get the best results with the simplified version I described above."
   ]
  },
  {
   "cell_type": "code",
   "execution_count": 87,
   "metadata": {
    "collapsed": false
   },
   "outputs": [
    {
     "name": "stdout",
     "output_type": "stream",
     "text": [
      "blurred training data;    accuracy: 0.105\n",
      "blurred dev data;    accuracy: 0.115\n",
      "blured training data and blurred dev data;    accuracy: 0.115\n"
     ]
    }
   ],
   "source": [
    "def P6():\n",
    "    # bluring the training set\n",
    "    blured_train_dataset=mini_train_data\n",
    "    for i in range(len(blured_train_dataset)):\n",
    "        Xp=blured_train_dataset[i].reshape(-1,28)\n",
    "        Xp=Xp.astype(float)\n",
    "        tmp=Xp\n",
    "        tmp=tmp.astype(float)\n",
    "        for j in range(1,26):\n",
    "            for k in range(1,26):\n",
    "                data=[1.5*Xp[j-1][k-1],1.5*Xp[j-1][k],1.5*Xp[j-1][k+1],1.5*Xp[j][k-1],Xp[j][k],1.5*Xp[j][k+1],1.5*Xp[j+1][k-1],1.5*Xp[j+1][k],1.5*Xp[j+1][k+1]]\n",
    "                avg=np.average(data)\n",
    "                tmp[j][k]=avg\n",
    "        blured_train_dataset[i]=tmp.reshape(784)\n",
    "    neigh1 = KNeighborsClassifier(n_neighbors=1)\n",
    "    blured_train_dataset=blured_train_dataset/np.max(blured_train_dataset)\n",
    "    neigh1.fit(blured_train_dataset, mini_train_labels)\n",
    "    preds1 = neigh1.predict(dev_data/255)\n",
    "    print  \"blurred training data;    \" \"accuracy:\", np.mean(preds1 == dev_labels)\n",
    "    # Bluring the dev dataset\n",
    "    blured_dev_dataset=dev_data   \n",
    "    for i in range(len(blured_dev_dataset)):\n",
    "        Xp2=blured_dev_dataset[i].reshape(-1,28)\n",
    "        Xp2=Xp2.astype(float)\n",
    "        tmp2=Xp2\n",
    "        tmp2=tmp2.astype(float)\n",
    "        for j in range(1,26):\n",
    "            for k in range(1,26):\n",
    "                data2=[1.5*Xp2[j-1][k-1],1.5*Xp2[j-1][k],1.5*Xp2[j-1][k+1],1.5*Xp2[j][k-1],Xp2[j][k],1.5*Xp2[j][k+1],1.5*Xp2[j+1][k-1],1.5*Xp2[j+1][k],1.5*Xp[j+1][k+1]]\n",
    "                avg2=np.average(data2)\n",
    "                tmp2[j][k]=avg2\n",
    "        blured_dev_dataset[i]=tmp2.reshape(784)\n",
    "    neigh2 = KNeighborsClassifier(n_neighbors=1)\n",
    "    neigh2.fit(mini_train_data/255, mini_train_labels)\n",
    "    blured_dev_dataset=blured_dev_dataset/np.max(blured_dev_dataset)\n",
    "    preds2 = neigh2.predict(blured_dev_dataset)\n",
    "    print  \"blurred dev data;    \" \"accuracy:\", np.mean(preds2 == dev_labels)    \n",
    "    # Bluring both data sets\n",
    "    neigh3 = KNeighborsClassifier(n_neighbors=1)\n",
    "    neigh3.fit(blured_train_dataset, mini_train_labels)\n",
    "    preds3 = neigh3.predict(blured_dev_dataset)\n",
    "    print  \"blured training data and blurred dev data;    \" \"accuracy:\", np.mean(preds3 == dev_labels)     \n",
    "P6()\n"
   ]
  },
  {
   "cell_type": "markdown",
   "metadata": {},
   "source": [
    "ANSWER:"
   ]
  },
  {
   "cell_type": "markdown",
   "metadata": {},
   "source": [
    "(7) Fit a Naive Bayes classifier and report accuracy on the dev data. Remember that Naive Bayes estimates P(feature|label). While sklearn can handle real-valued features, let's start by mapping the pixel values to either 0 or 1. You can do this as a preprocessing step, or with the binarize argument. With binary-valued features, you can use BernoulliNB. Next try mapping the pixel values to 0, 1, or 2, representing white, grey, or black. This mapping requires MultinomialNB. Does the multi-class version improve the results? Why or why not?"
   ]
  },
  {
   "cell_type": "code",
   "execution_count": 7,
   "metadata": {
    "collapsed": false
   },
   "outputs": [
    {
     "name": "stdout",
     "output_type": "stream",
     "text": [
      "bernoulli accuracy: 0.81\n",
      "multinomial accuracy: 0.80\n"
     ]
    }
   ],
   "source": [
    "def P7():\n",
    "    bern = BernoulliNB()\n",
    "    bern.fit(np.floor(mini_train_data/170), mini_train_labels)\n",
    "    print 'bernoulli accuracy: %3.2f' %bern.score(np.floor(dev_data/170), dev_labels)\n",
    "\n",
    "    mult = MultinomialNB()   \n",
    "    mult.fit(np.floor(mini_train_data/85), mini_train_labels)\n",
    "    print 'multinomial accuracy: %3.2f' %mult.score(np.floor(dev_data/85), dev_labels)\n",
    "\n",
    "P7()"
   ]
  },
  {
   "cell_type": "markdown",
   "metadata": {},
   "source": [
    "ANSWER:"
   ]
  },
  {
   "cell_type": "markdown",
   "metadata": {},
   "source": [
    "(8) Use GridSearchCV to perform a search over values of alpha (the Laplace smoothing parameter) in a Bernoulli NB model. What is the best value for alpha? What is the accuracy when alpha=0? Is this what you'd expect?\n",
    "\n",
    "- Note that GridSearchCV partitions the training data so the results will be a bit different than if you used the dev data for evaluation."
   ]
  },
  {
   "cell_type": "code",
   "execution_count": 8,
   "metadata": {
    "collapsed": false
   },
   "outputs": [
    {
     "name": "stdout",
     "output_type": "stream",
     "text": [
      "{'alpha': 0.01}\n",
      "[mean: 0.09200, std: 0.00080, params: {'alpha': 0.0}, mean: 0.80900, std: 0.02050, params: {'alpha': 0.0001}, mean: 0.81200, std: 0.01953, params: {'alpha': 0.001}, mean: 0.81500, std: 0.01869, params: {'alpha': 0.01}, mean: 0.80600, std: 0.02227, params: {'alpha': 0.1}, mean: 0.79100, std: 0.02035, params: {'alpha': 0.5}, mean: 0.78700, std: 0.01899, params: {'alpha': 1.0}, mean: 0.77400, std: 0.01771, params: {'alpha': 2.0}, mean: 0.68900, std: 0.01292, params: {'alpha': 10.0}]\n"
     ]
    }
   ],
   "source": [
    "def P8(alphas):    \n",
    "    bern = BernoulliNB()    \n",
    "    parameters = alphas  \n",
    "\n",
    "    bern_search = GridSearchCV(bern,parameters, n_jobs=-1)\n",
    "    bern_search=bern_search.fit(np.floor(mini_train_data/170), mini_train_labels)\n",
    "\n",
    "    print bern_search.best_params_\n",
    "    print bern_search.grid_scores_\n",
    "\n",
    "alphas = {'alpha': [0.0, 0.0001, 0.001, 0.01, 0.1, 0.5, 1.0, 2.0, 10.0]}\n",
    "P8(alphas)\n"
   ]
  },
  {
   "cell_type": "markdown",
   "metadata": {},
   "source": [
    "ANSWER:"
   ]
  },
  {
   "cell_type": "markdown",
   "metadata": {},
   "source": [
    "(9) Try training a model using GuassianNB, which is intended for real-valued features, and evaluate on the dev data. You'll notice that it doesn't work so well. Try to diagnose the problem. You should be able to find a simple fix that returns the accuracy to around the same rate as BernoulliNB. Explain your solution.\n",
    "\n",
    "Hint: examine the parameters estimated by the fit() method, theta\\_ and sigma\\_."
   ]
  },
  {
   "cell_type": "code",
   "execution_count": 9,
   "metadata": {
    "collapsed": false
   },
   "outputs": [
    {
     "name": "stdout",
     "output_type": "stream",
     "text": [
      "gaussian accuracy: 0.62\n",
      "(10, 784)\n",
      "(10, 784)\n",
      "new_gaussian accuracy: 0.74\n"
     ]
    }
   ],
   "source": [
    "def P9():\n",
    "    gau = GaussianNB()\n",
    "    gau.fit(mini_train_data, mini_train_labels)\n",
    "    print 'gaussian accuracy: %3.2f' %gau.score(dev_data, dev_labels)\n",
    "\n",
    "    print gau.sigma_.shape\n",
    "    print gau.theta_.shape\n",
    "\n",
    "    gau_new=GaussianNB()\n",
    "    gau_new.fit(mini_train_data ,mini_train_labels)\n",
    "    gau_new.sigma_=.01*(gau.sigma_)\n",
    "    gau_new.theta_=1.5*(gau.theta_)\n",
    "    print 'new_gaussian accuracy: %3.2f' %gau_new.score(dev_data, dev_labels)\n",
    "    \n",
    "\n",
    "P9()"
   ]
  },
  {
   "cell_type": "markdown",
   "metadata": {},
   "source": [
    "ANSWER:"
   ]
  },
  {
   "cell_type": "markdown",
   "metadata": {},
   "source": [
    "(10) Because Naive Bayes is a generative model, we can use the trained model to generate digits. Train a BernoulliNB model and then generate a 10x20 grid with 20 examples of each digit. Because you're using a Bernoulli model, each pixel output will be either 0 or 1. How do the generated digits compare to the training digits?\n",
    "\n",
    "- You can use np.random.rand() to generate random numbers from a uniform distribution\n",
    "- The estimated probability of each pixel is stored in feature\\_log\\_prob\\_. You'll need to use np.exp() to convert a log probability back to a probability."
   ]
  },
  {
   "cell_type": "code",
   "execution_count": 22,
   "metadata": {
    "collapsed": false
   },
   "outputs": [
    {
     "data": {
      "image/png": "[encoded data removed]",
      "text/plain": [
       "<matplotlib.figure.Figure at 0x114cade50>"
      ]
     },
     "metadata": {},
     "output_type": "display_data"
    }
   ],
   "source": [
    "def P10(num_examples):\n",
    "    bern = BernoulliNB()\n",
    "    bern.fit(np.floor(mini_train_data/170), mini_train_labels) \n",
    "    j=1\n",
    "    i=0\n",
    "    ndigits=10;  \n",
    "    while i<10:\n",
    "        j=1;\n",
    "        Yr=np.exp(bern.feature_log_prob_) \n",
    "        while j<=num_examples:\n",
    "            Xr = np.random.rand(1,784)\n",
    "            Yr_pr = Yr[i]\n",
    "            for x in range(len(Xr)):\n",
    "                if Xr[0][x]<Yr[i][x]:\n",
    "                    Yr_pr[x]=0.0\n",
    "                else:\n",
    "                    Yr_pr[x]=1.0\n",
    "            p=plt.subplot(ndigits,num_examples,i*num_examples+j)\n",
    "            p.imshow(Yr_pr.reshape(-1,28),  cmap=plt.cm.gray_r, interpolation='nearest')\n",
    "            j+=1;   \n",
    "        i+=1;  \n",
    "    \n",
    "P10(20)"
   ]
  },
  {
   "cell_type": "markdown",
   "metadata": {},
   "source": [
    "ANSWER:"
   ]
  },
  {
   "cell_type": "markdown",
   "metadata": {},
   "source": [
    "(11) Remember that a strongly calibrated classifier is rougly 90% accurate when the posterior probability of the predicted class is 0.9. A weakly calibrated classifier is more accurate when the posterior is 90% than when it is 80%. A poorly calibrated classifier has no positive correlation between posterior and accuracy.\n",
    "\n",
    "Train a BernoulliNB model with a reasonable alpha value. For each posterior bucket (think of a bin in a histogram), you want to estimate the classifier's accuracy. So for each prediction, find the bucket the maximum posterior belongs to and update the \"correct\" and \"total\" counters.\n",
    "\n",
    "How would you characterize the calibration for the Naive Bayes model?"
   ]
  },
  {
   "cell_type": "code",
   "execution_count": 10,
   "metadata": {
    "collapsed": false
   },
   "outputs": [
    {
     "name": "stdout",
     "output_type": "stream",
     "text": [
      "p(pred) <= 0.5000000000000    total =   1    correct =  0 accuracy = 0.000\n",
      "p(pred) <= 0.9000000000000    total =  51    correct = 20 accuracy = 0.392\n",
      "p(pred) <= 0.9990000000000    total = 103    correct = 56 accuracy = 0.544\n",
      "p(pred) <= 0.9999900000000    total =  84    correct = 52 accuracy = 0.619\n",
      "p(pred) <= 0.9999999000000    total =  87    correct = 65 accuracy = 0.747\n",
      "p(pred) <= 0.9999999990000    total =  79    correct = 64 accuracy = 0.810\n",
      "p(pred) <= 0.9999999999900    total =  83    correct = 70 accuracy = 0.843\n",
      "p(pred) <= 0.9999999999999    total =  69    correct = 61 accuracy = 0.884\n",
      "p(pred) <= 1.0000000000000    total = 443    correct =430 accuracy = 0.971\n"
     ]
    }
   ],
   "source": [
    "def P11(buckets, correct, total):\n",
    "    bern = BernoulliNB(alpha=0.1)\n",
    "    bern.fit(np.floor(mini_train_data/170), mini_train_labels)\n",
    "                    \n",
    "    for i in range(len(dev_data)):\n",
    "        p=bern.predict_proba(np.floor(dev_data/170))[i]\n",
    "        if max(p)<=buckets[0]:\n",
    "            total[0]=total[0]+1\n",
    "            if bern.predict(np.floor(dev_data/170))[i]==dev_labels[i]:\n",
    "                correct[0]=correct[0]+1\n",
    "        for x in range(len(buckets)):\n",
    "            if max(p)>buckets[x] and max(p)<=buckets[x+1]:\n",
    "                total[x+1]=total[x+1]+1\n",
    "                if bern.predict(np.floor(dev_data/170))[i]==dev_labels[i]:\n",
    "                    correct[x+1]=correct[x+1]+1\n",
    "\n",
    "buckets = [0.5, 0.9, 0.999, 0.99999, 0.9999999, 0.999999999, 0.99999999999, 0.9999999999999, 1.0]                    \n",
    "correct = [0 for i in buckets] \n",
    "total = [0 for i in buckets]\n",
    "P11(buckets, correct, total)\n",
    "for i in range(len(buckets)):\n",
    "    accuracy = 0.0\n",
    "    if total[i] > 0: \n",
    "        accuracy = float(correct[i])/float(total[i])\n",
    "    print 'p(pred) <= %.13f    total = %3d    correct =%3d accuracy = %.3f' %(buckets[i], total[i], correct[i], accuracy)\n"
   ]
  },
  {
   "cell_type": "markdown",
   "metadata": {},
   "source": [
    "ANSWER:"
   ]
  },
  {
   "cell_type": "markdown",
   "metadata": {},
   "source": [
    "(12) EXTRA CREDIT\n",
    "\n",
    "Try designing extra features to see if you can improve the performance of Naive Bayes on the dev set. Here are a few ideas to get you started:\n",
    "- Try summing the pixel values in each row and each column.\n",
    "- Try counting the number of enclosed regions; 8 usually has 2 enclosed regions, 9 usually has 1, and 7 usually has 0.\n",
    "\n",
    "Make sure you comment your code well!"
   ]
  },
  {
   "cell_type": "code",
   "execution_count": null,
   "metadata": {
    "collapsed": false
   },
   "outputs": [],
   "source": [
    "#def P12():\n",
    "\n",
    "### STUDENT START ###\n",
    "\n",
    "\n",
    "### STUDENT END ###\n",
    "\n",
    "#P12()"
   ]
  }
 ],
 "metadata": {
  "kernelspec": {
   "display_name": "Python 2",
   "language": "python",
   "name": "python2"
  },
  "language_info": {
   "codemirror_mode": {
    "name": "ipython",
    "version": 2
   },
   "file_extension": ".py",
   "mimetype": "text/x-python",
   "name": "python",
   "nbconvert_exporter": "python",
   "pygments_lexer": "ipython2",
   "version": "2.7.11"
  }
 },
 "nbformat": 4,
 "nbformat_minor": 0
}
